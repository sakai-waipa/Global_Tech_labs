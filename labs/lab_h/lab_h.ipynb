{
 "cells": [
  {
   "cell_type": "markdown",
   "metadata": {},
   "source": [
    "# Lab H Exploration: AR Markers\n",
    "\n",
    "このノートブックでは、ArUcoライブラリを使ってカラー画像からARマーカーを検出する方法を学びます。\n",
    "\n",
    "このノートブック全体を通して **<font style=\"color:red\">太い赤字で書かれた文章</font>** は、実行する前にその下のコードブロックを編集して正しいコードを書く必要があります。\n",
    "\n",
    "\n",
    "## 目次\n",
    "1. [はじめに](#GettingStarted)\n",
    "1. [ARマーカーの検出](#DetectingARMarkers)\n",
    "1. [ARマーカーの整理](#OrganizingData)\n",
    "1. [方向の検出](#DetectingOrientation)\n",
    "1. [色の検出](#DetectingColor)"
   ]
  },
  {
   "cell_type": "markdown",
   "metadata": {},
   "source": [
    "<a id=\"GettingStarted\"></a>\n",
    "## 1. はじめに\n",
    "\n",
    "**<font style=\"color:red\">もしシミュレータを利用して開発を進める場合は、 `isSimulation` を `True` に設定します </font>**。 実際のマシンを利用する場合は、 `isSimulation` を `False` のままにしてください。"
   ]
  },
  {
   "cell_type": "code",
   "execution_count": null,
   "metadata": {},
   "outputs": [],
   "source": [
    "# TODO: 必要に応じてisSimulationを更新する\n",
    "isSimulation = True"
   ]
  },
  {
   "cell_type": "markdown",
   "metadata": {},
   "source": [
    "次に、Pythonライブラリ(`cv`, `numpy`, など)や、Racecarライブラリ(`racecar_core`)など、このノートブックの実行に必要なライブラリをインポートします。"
   ]
  },
  {
   "cell_type": "code",
   "execution_count": null,
   "metadata": {},
   "outputs": [],
   "source": [
    "# Pythonライブラリのインポート\n",
    "import math\n",
    "import copy\n",
    "import cv2 as cv\n",
    "import numpy as np\n",
    "import matplotlib.pyplot as plt\n",
    "import ipywidgets as widgets\n",
    "import statistics\n",
    "from nptyping import NDArray\n",
    "from typing import Any, Tuple, List, Optional\n",
    "from enum import Enum\n",
    "\n",
    "# Racecarライブラリのインポート\n",
    "import sys\n",
    "sys.path.append(\"../../library\")\n",
    "import racecar_core\n",
    "import racecar_utils as rc_utils"
   ]
  },
  {
   "cell_type": "markdown",
   "metadata": {},
   "source": [
    "以下の関数を使えば、Jupyter Notebookに画像を表示することができます。"
   ]
  },
  {
   "cell_type": "code",
   "execution_count": 4,
   "metadata": {},
   "outputs": [],
   "source": [
    "def show_image(image, size = 8) -> None:\n",
    "    \"\"\"\n",
    "    Displays a color image in the Jupyter Notebook.\n",
    "    \"\"\"\n",
    "    plt.figure(figsize=(size, size), dpi=100)\n",
    "    plt.imshow(cv.cvtColor(image, cv.COLOR_BGR2RGB))"
   ]
  },
  {
   "cell_type": "markdown",
   "metadata": {},
   "source": [
    "最後に、Racecarオブジェクトを作成します。このステップで失敗した場合は`isSimulation` が正しい値であることを確認してください。"
   ]
  },
  {
   "cell_type": "code",
   "execution_count": null,
   "metadata": {},
   "outputs": [],
   "source": [
    "# Racecar オブジェクトの作成\n",
    "rc = racecar_core.create_racecar(isSimulation)"
   ]
  },
  {
   "cell_type": "markdown",
   "metadata": {},
   "source": [
    "<a id=\"DetectingARMarkers\"></a>\n",
    "## 2. ARマーカーの検出\n",
    "QRコードと同様に、ARマーカーはコンピュータに認識されやすいように設計された特別な模様のパターンです。このコースでは、OpenCVのArUcoライブラリで検出できるArUcoマーカーを扱います。各パターンには固有のID番号が設定されており、ArUcoライブラリはマーカーがどの方向を向いていいるかを検出することができます。\n",
    "\n",
    "まず始めに、カラー画像を取得してみましょう。"
   ]
  },
  {
   "cell_type": "code",
   "execution_count": null,
   "metadata": {
    "scrolled": false
   },
   "outputs": [],
   "source": [
    "# 直近のカラー画像を取得する\n",
    "image = rc.camera.get_color_image_async()\n",
    "show_image(image)"
   ]
  },
  {
   "cell_type": "markdown",
   "metadata": {},
   "source": [
    "次に`cv.aruco.ArucoDetector.detectMarkers`関数を用いて、この画像にあるマーカーを検出します。この関数は、マーカーに関する多くの情報を含むオブジェクトを返します。これらの情報が何を意味するかは、次のセクションで説明します。"
   ]
  },
  {
   "cell_type": "code",
   "execution_count": null,
   "metadata": {},
   "outputs": [],
   "source": [
    "# パラメータを設定する\n",
    "aruco_detector = cv.aruco.ArucoDetector(\n",
    "    cv.aruco.getPredefinedDictionary(cv.aruco.DICT_6X6_250), \n",
    "    cv.aruco.DetectorParameters(),\n",
    "    )\n",
    "\n",
    "# ARマーカーを検出する\n",
    "ar_markers = aruco_detector.detectMarkers(image)\n",
    "ar_markers"
   ]
  },
  {
   "cell_type": "markdown",
   "metadata": {},
   "source": [
    "最後に`cv.aruco.drawDetectedMarkers` 関数を用いて、カラー画像中のARマーカーに注釈をつけます。この関数では、以下のパラメータが必要です：\n",
    "1. マーカーが検出されたカラー画像\n",
    "2. マーカーの角の座標(これは`detectMarkers`が返すオブジェクトの0番目の要素です)\n",
    "3. マーカーのID(これは`detectMarkers`が返すオブジェクトの1番目の要素です)\n",
    "4. 画像につける注釈の色\n",
    "\n",
    "画像内で検出された各ARマーカーに対して以下の処理を行います：\n",
    "* マーカーを指定した色の枠で囲う\n",
    "* パターンの左上隅に四角形を表示させる。これはマーカーの向きを示します。つまり、マーカーが上向きでない場合、四角形はマーカーに対して左上隅にはありません。\n",
    "* 'id=N'という注釈をつける。ここで$N$とはマーカーの検出された順番（インデックス）を示します。"
   ]
  },
  {
   "cell_type": "code",
   "execution_count": null,
   "metadata": {},
   "outputs": [],
   "source": [
    "color = (255, 255, 0)\n",
    "cv.aruco.drawDetectedMarkers(image, ar_markers[0], ar_markers[1], color)\n",
    "\n",
    "show_image(image)"
   ]
  },
  {
   "cell_type": "markdown",
   "metadata": {},
   "source": [
    "`drawDetectedMarkers`は、渡した画像の上に**直接**注釈を描画することに注意しましょう。画像に直接注釈を描画してしまうと、輪郭の検出など、画像に対して追加の計算を行う必要がある場合に問題となります。この場合、まず[`copy.deepcopy()`](https://docs.python.org/3/library/copy.html)関数を使って画像の*ディープコピー*を作成する必要があります。\n",
    "\n",
    "**<span style=\"color:red\">検出されたマーカーを描画する前に`image`のディープコピーを作成するように、以下のコードブロックを修正してください。</span>** このコードを実行すると、2つの画像が表示されるはずです。1つ目は注釈なし、2つ目は注釈付きの画像です。"
   ]
  },
  {
   "cell_type": "code",
   "execution_count": null,
   "metadata": {},
   "outputs": [],
   "source": [
    "image = rc.camera.get_color_image_async()\n",
    "ar_markers = aruco_detector.detectMarkers(image)\n",
    "\n",
    "# TODO: 画像のディープコピーを作成する\n",
    "image_copy = ?\n",
    "\n",
    "color = (255, 255, 0)\n",
    "cv.aruco.drawDetectedMarkers(image_copy, ar_markers[0], ar_markers[1], color)\n",
    "\n",
    "show_image(image)\n",
    "show_image(image_copy)"
   ]
  },
  {
   "cell_type": "markdown",
   "metadata": {},
   "source": [
    "<a id=\"OrganizingData\"></a>\n",
    "## 3. ARマーカーの整理\n",
    "\n",
    "### 3.1 データの解凍\n",
    "\n",
    "ARマーカーをプログラムで使用するためには、`detectMarkers`関数が返す情報を理解する必要があります。\n",
    "\n",
    "`detectMarkers`関数が返す`ar_markers`オブジェクトを表示してみると、深くネストした配列でゴチャゴチャしていることがわかります。このデータを使用するためには、有用な部分のみを抽出する必要があります。"
   ]
  },
  {
   "cell_type": "code",
   "execution_count": null,
   "metadata": {
    "scrolled": true
   },
   "outputs": [],
   "source": [
    "ar_markers"
   ]
  },
  {
   "cell_type": "markdown",
   "metadata": {},
   "source": [
    "`ar_markers`の0番目の要素は画像内の各ARマーカーの角の座標を含む配列で、1番目の要素は画像内の各ARマーカーのIDを含む配列です。"
   ]
  },
  {
   "cell_type": "code",
   "execution_count": null,
   "metadata": {},
   "outputs": [],
   "source": [
    "corners = ar_markers[0]\n",
    "ids = ar_markers[1]"
   ]
  },
  {
   "cell_type": "code",
   "execution_count": null,
   "metadata": {
    "scrolled": false
   },
   "outputs": [],
   "source": [
    "corners"
   ]
  },
  {
   "cell_type": "code",
   "execution_count": null,
   "metadata": {
    "scrolled": true
   },
   "outputs": [],
   "source": [
    "ids"
   ]
  },
  {
   "cell_type": "markdown",
   "metadata": {},
   "source": [
    "残念ながら、角の座標はRacecarのライブラリと互換性のあるフォーマットで表現されていません。まず第一に、各角の座標は（ピクセル行、ピクセル列）の順ではなく、（ピクセル列、ピクセル行）の順で表現されています。第二に各行と各列は`float32`（端数を許可する）浮動小数点表現で保存されています。これは、今回のアプリケーションではあまり意味がありません。なので、各行と各列の値は`int32`に変換したいです。\n",
    "\n",
    "データは深くネストされた配列に格納されているので、必要なデータにアクセスするにはこれらの配列を「アンパック」する必要があります。例えば、`ids`配列の各要素は、それ自体がIDを含む1要素の配列です。したがって、最初のARマーカーのIDは`id[0][0]`で、次のARマーカーのIDは`ids[1][0]`で取得することができます。\n",
    "\n",
    "**<span style=\"color:red\">最初に検出されたARマーカー（インデクス0）の角の座標とIDを抽出するために、以下のコードブロックを修正してください。</span>** なお、角の座標は（行、列）の順で、整数値で表現してください。"
   ]
  },
  {
   "cell_type": "code",
   "execution_count": null,
   "metadata": {},
   "outputs": [],
   "source": [
    "# 最初に検出されたARマーカーの角の座標を取得して、データ型をfloat32からint32に変換する\n",
    "first_corners = corners[0][0].astype(np.int32)\n",
    "\n",
    "# TODO: 各角の座標を(col, row)から(row, col)に入れ替える\n",
    "\n",
    "\n",
    "# TODO: first_idを最初に検出されたARマーカーのIDに設定する\n",
    "first_id = ?\n",
    "\n",
    "print(\"first_corners: \", first_corners)\n",
    "print(\"first_id: \", first_id)"
   ]
  },
  {
   "cell_type": "markdown",
   "metadata": {},
   "source": [
    "### 3.2 ARマーカークラスの作成\n",
    "ARマーカーの角の座標とIDを別々に保存するのではなく、1つのマーカーに関するすべての情報を保存する1つのオブジェクトがあると便利です。このようなオブジェクトを作成しておくことは、後でマーカーの向きと色を計算するときに役立ちます。\n",
    "\n",
    "そのためには、新しいタイプのオブジェクトを指定する*クラス(class)*を作成します。例えば、`ARMarker`クラスを定義すると、`ARMarker`型の新しいオブジェクトを作成することができます。\n",
    "\n",
    "クラス(class)は、以下の2つの要素で構成されています：\n",
    "1. **フィールド(Fields)**：フィールドはクラスに関連するデータを格納する変数です。ここでは、IDを格納する`id`フィールドと、マーカーの角の座標を格納する`corners`フィールドを作成します。\n",
    "2. **メソッド(Messods)**：メソッドはクラスのオブジェクトに対して呼び出すことができる関数の一種です。メソッドの最初のパラメータ(引数)は`self`と呼ばれ、メソッドが呼び出されたオブジェクトの事をさします。\n",
    "\n",
    "`__init__`メソッドは _コンストラクタ(constructor)_ と呼ばれる特別なメソッドで、クラスの新しいオブジェクトを作成するために使用されます。伝統的には、ここでクラスのフィールドを定義します。ここでは`ARMarker`コンストラクタを記述して、マーカーIDと角の座標を受け取ります。\n",
    "\n",
    "**<span style=\"color:red\">`ARMarker`クラスのコンストラクタを作成して、`id`と`corners`フィールドに正しい値を代入しましょう。</span>**"
   ]
  },
  {
   "cell_type": "code",
   "execution_count": null,
   "metadata": {},
   "outputs": [],
   "source": [
    "class ARMarker:\n",
    "    \n",
    "    def __init__(self, marker_id, marker_corners):\n",
    "        # TODO: idフィールドにmarker_idパラメータを割り当てる\n",
    "        self.id = ?\n",
    "            \n",
    "        # TODO: cornersフィールドにmarker_cornersパラメータを割り当てる\n",
    "        self.corners = ?"
   ]
  },
  {
   "cell_type": "markdown",
   "metadata": {},
   "source": [
    "このコンストラクタを呼び出すと、前に計算したidとcornerを格納した`ARMarker`オブジェクトが作成されます。第一パラメータに`self`が存在しますが、引数を渡す必要がないことに注意しましょう。"
   ]
  },
  {
   "cell_type": "code",
   "execution_count": null,
   "metadata": {
    "scrolled": true
   },
   "outputs": [],
   "source": [
    "# 最初に検出されたARマーカーんおIDと角の座標を格納するARMarkerオブジェクトを作成する\n",
    "first_marker = ARMarker(first_id, first_corners)\n",
    "\n",
    "# 最初に検出されたARマーカーのIDと角の座標を表示する\n",
    "print(\"first_marker.id: \", first_marker.id)\n",
    "print(\"first_marker.corners: \", first_marker.corners)"
   ]
  },
  {
   "cell_type": "markdown",
   "metadata": {},
   "source": [
    "先の例では、オブジェクトのフィールドを読み取る方法（first_marker.idやfirst_marker.corners）を試しました。もちろん、オブジェクトのフィールドに直接書き込む事もできます。"
   ]
  },
  {
   "cell_type": "code",
   "execution_count": null,
   "metadata": {},
   "outputs": [],
   "source": [
    "first_marker.id = 20\n",
    "print(\"first_marker.id: \", first_marker.id)"
   ]
  },
  {
   "cell_type": "markdown",
   "metadata": {},
   "source": [
    "### 3.3 プライベートフィールド (Private Fields)\n",
    "\n",
    "`ARMarker`クラスの最初に検出された後にIDや角の座標をユーザーが変更できるようにする必要はありませんし、勝手に変更されると困ってしまいます。そのため、これらのフィールドの名前の前に2つアンダースコア(`__`)をつけることで、そのフィールドを*プライベート(private)*に設定することができます。プライベートに設定されたフィールドは`ARMarker`クラスのメソッドのみからアクセスでき、クラスの外部からはアクセスできなくなります。\n",
    "\n",
    "それでは、IDと角の座標用のフィールドを、`__id`と`__corners`を書き直して、ユーザーが変更できないように修正しましょう。また、ユーザーが`__id`と`__corners`の値を変更せずにアクセスできるように、`get_id()`メソッドと`get_corners()`メソッドを追加しましょう。このようにフィールドの値を返すメソッドは _accessors_ または _getters_ と呼ばれます。"
   ]
  },
  {
   "cell_type": "code",
   "execution_count": null,
   "metadata": {},
   "outputs": [],
   "source": [
    "class ARMarker:\n",
    "    \n",
    "    def __init__(self, marker_id, marker_corners):\n",
    "        # TODO: __id と __corners フィールドを定義する\n",
    "\n",
    "            \n",
    "    def get_id(self):\n",
    "        # TODO: ARマーカーのIDを返す\n",
    "\n",
    "    \n",
    "    def get_corners(self):\n",
    "        # TODO: ARマーカーの角の座標を返す\n"
   ]
  },
  {
   "cell_type": "markdown",
   "metadata": {},
   "source": [
    "先ほどと同じようにARMarkerオブジェクトが作成します。ただし、IDと角の座標には、`get_id()`メソッドと`get_corners()`メソッドを使ってアクセスします。ここでも、引数`self`を明示的に渡さないことに注意してください。"
   ]
  },
  {
   "cell_type": "code",
   "execution_count": null,
   "metadata": {},
   "outputs": [],
   "source": [
    "first_marker = ARMarker(first_id, first_corners)\n",
    "\n",
    "print(\"first_marker.get_id(): \", first_marker.get_id())\n",
    "print(\"first_marker.get_corners(): \", first_marker.get_corners())"
   ]
  },
  {
   "cell_type": "markdown",
   "metadata": {},
   "source": [
    "`__id`はプライベートフィールドなので、`first_marker.__id`でアクセスすることはできません。以下のコードブロックを実行して、ユーザーが`__id`の値が変更できないことを確認してください。これにより、ユーザーが誤ってマーカーのIDを上書きしてしまうことを防ぐ事ができます。"
   ]
  },
  {
   "cell_type": "code",
   "execution_count": null,
   "metadata": {},
   "outputs": [],
   "source": [
    "first_marker.__id = 20\n",
    "print(\"first_marker.get_id(): \", first_marker.get_id())"
   ]
  },
  {
   "cell_type": "markdown",
   "metadata": {},
   "source": [
    "### 3.4 `__str__`の追加\n",
    "\n",
    "今のところ、`ARMarker`オブジェクトをprintで表示しようとしても、オブジェクトがメモリのどこに保存されているかを教えてくれるだけで、特段役に立ちません。"
   ]
  },
  {
   "cell_type": "code",
   "execution_count": null,
   "metadata": {},
   "outputs": [],
   "source": [
    "print(first_marker)"
   ]
  },
  {
   "cell_type": "markdown",
   "metadata": {},
   "source": [
    "これを解決するために、`ARMarker`クラスに`__str__`を実装してみましょう。`__str__`はオブジェクトを文字列に変換するための特別なメソッドです。このメソッドを実装すると、オブジェクトを`print()`で表示したり、`str()`で文字列に変換したりする際に自動で呼び出されます。\n",
    "\n",
    "**<span style=\"color:red\">マーカーのIDと角の座標を表示するための`__str__`メソッドを完成させましょう。</span>**"
   ]
  },
  {
   "cell_type": "code",
   "execution_count": null,
   "metadata": {},
   "outputs": [],
   "source": [
    "class ARMarker:\n",
    "    \n",
    "    def __init__(self, marker_id, marker_corners):\n",
    "        # TODO: これまでに作成したARMarkerクラスからコピーする\n",
    "\n",
    "            \n",
    "    def get_id(self):\n",
    "        # TODO: これまでに作成したARMarkerクラスからコピーする\n",
    "\n",
    "    \n",
    "    def get_corners(self):\n",
    "        # TODO: これまでに作成したARMarkerクラスからコピーする\n",
    "\n",
    "    \n",
    "    def __str__(self):\n",
    "        # TODO: マーカーのIDと角の座標を文字列で返す\n"
   ]
  },
  {
   "cell_type": "markdown",
   "metadata": {},
   "source": [
    "`__str__`メソッドを実装したことで、`print()`関数で`ARMarker`オブジェクトを表示すると、より親切なメッセージが表示されます。"
   ]
  },
  {
   "cell_type": "code",
   "execution_count": null,
   "metadata": {},
   "outputs": [],
   "source": [
    "first_marker = ARMarker(first_id, first_corners)\n",
    "print(first_marker)"
   ]
  },
  {
   "cell_type": "markdown",
   "metadata": {},
   "source": [
    "### 3.5 一つにまとめる\n",
    "\n",
    "**3.1**節では、画像の中のマーカーの角の座標情報とID情報を抽出する方法を学びました。**3.2 - 3.4**節では、1つのARマーカーについて、角の座標とIDの情報を整理するために`ARMarker`クラスを作成しました。このセクションでは、これらをまとめて、画像内のすべてのARマーカーを抽出して`ARMarker`オブジェクトのリストとして返す関数を作成します。\n",
    "\n",
    "**<span style=\"color:red\">画像から検出されたARマーカーの情報をまとめた`ARMarker`オブジェクトのリストを返す、`get_ar_markers()`関数を完成させましょう。</span>** ArUcoライブラリは角の座標を(col, row)のフォーマットで、`float32`の値として表現しますが、私たちは(row, col)のフォーマットで`int32`の値として表現したいことを忘れないでください。わからなくなったら**3.1**節のコードをもう一度見直してみてください。"
   ]
  },
  {
   "cell_type": "code",
   "execution_count": null,
   "metadata": {},
   "outputs": [],
   "source": [
    "def get_ar_markers(image):\n",
    "    # ArUcoから生のARマーカーデータを収集する\n",
    "    aruco_data = aruco_detector.detectMarkers(image)\n",
    "    \n",
    "    # aruco_dataで見つかったARマーカーを表すARMarkerオブジェクトのリスト\n",
    "    markers = []\n",
    "        \n",
    "    for i in range(len(aruco_data[0])):\n",
    "        # TODO: aruco_dataの各マーカーについて、角の座標とIDを抽出して、\n",
    "        # 角の座標を(row, col)のフォーマットに変更し、このデータでARMarkerオブジェクトを作成する(3.1節を参照)\n",
    "        \n",
    "        # TODO: 新しいマーカーをmarkersリストに追加する\n",
    "\n",
    "        \n",
    "    return markers"
   ]
  },
  {
   "cell_type": "markdown",
   "metadata": {},
   "source": [
    "これで、`get_ar_markers()`を使って画像内のすべてのARマーカーを特定できるようになりました。"
   ]
  },
  {
   "cell_type": "code",
   "execution_count": null,
   "metadata": {},
   "outputs": [],
   "source": [
    "image = rc.camera.get_color_image_async()\n",
    "markers = get_ar_markers(image)\n",
    "\n",
    "for marker in markers:\n",
    "    print(marker)\n",
    "    print(\"\\n----\\n\")"
   ]
  },
  {
   "cell_type": "markdown",
   "metadata": {},
   "source": [
    "<a id=\"DetectingOrientation\"></a>\n",
    "## 4. 方向の検出\n",
    "\n",
    "ARマーカーのパターンは左右対称でないため、どのように回転させても、ArUcoは常にパターンの「一番上」を識別することができます。ArUcoが返す角の座標データは、常にARマーカーパターンの左上の角から始まり、時計回りに続きます。\n",
    "\n",
    "この情報を使って、画像内のARマーカーの向きを判断する事ができます。例えば、マーカーが右を向いているときは右折し、左を向いているときは左折する、といった事も実現できるようになります。\n",
    "\n",
    "4つの方向（上、左、下、右）を表現するために、`Enum(列挙型)`を作成します。Enumは特別なタイプのクラスで、各メンバーはユニークな低数値を持っています。これらのメンバは通常、Enumクラスで表されるカテゴリの様々なオプションを表すために使用されます。\n",
    "\n",
    "次のコードブロックでは、4つの方向（上、左、下、右）を表すメンバを持つ`Orientation`列挙型(Enum)を定義しています。各メンバは0から3までの一意な低数値を持っています。"
   ]
  },
  {
   "cell_type": "code",
   "execution_count": null,
   "metadata": {
    "scrolled": false
   },
   "outputs": [],
   "source": [
    "class Orientation(Enum):\n",
    "    UP = 0\n",
    "    LEFT = 1\n",
    "    DOWN = 2\n",
    "    RIGHT = 3"
   ]
  },
  {
   "cell_type": "markdown",
   "metadata": {},
   "source": [
    "列挙型(Enum)にはいくつかの役立つ性質があります：\n",
    "* Enum値は変数に格納できます。例えば、マーカーの向きを格納する変数を定義することができます。\n",
    "* Enumの値は`==`で直接比較することができ、Enumの値が同じであれば`true`を返し、そうでなければ`false`を返します。例えば、`Orientation.UP == Orientation.UP`は`true`を返し、`Orientation.Up == Orientation.DOWN`は`false`を返します。\n",
    "* Enumの値には`.value`でアクセスする事ができます。例えば`Orientation.UP.value`は0で、`Orientation.LEFT.value`は3です。"
   ]
  },
  {
   "cell_type": "code",
   "execution_count": null,
   "metadata": {},
   "outputs": [],
   "source": [
    "# 列挙型の値は変数に格納する事ができる\n",
    "marker_orientation = Orientation.UP\n",
    "\n",
    "# 列挙型の値を比較できる\n",
    "if (marker_orientation == Orientation.DOWN):\n",
    "    print(\"marker_orientation is DOWN\")\n",
    "if (marker_orientation == Orientation.UP):\n",
    "    print(\"marker_orientation is UP\")\n",
    "    \n",
    "# 列挙型の値にはvalueでアクセスできる\n",
    "print(\"marker_orientation.value is\", marker_orientation.value)"
   ]
  },
  {
   "cell_type": "markdown",
   "metadata": {},
   "source": [
    "次に、マーカーの向きを自動的に検出して保存するために、`ARMarker`クラスを拡張します。`marker_corners`は常にパターンの左上の角の座標を最初に持ち、そこから時計回りに残りの角の座標を並べています。例えば、マーカーが右向き（時計回りに90度回転）の状態であれば、画像におけるのマーカの左上の角の座標は`marker_corners[3]`となります。コーナーの行と列を比較することで、マーカーの向きを判断する事ができます。（最初に図を描いて、マーカーの実際の左上と回転、座標の関係をまとめることを推奨します）\n",
    "\n",
    "**<span style=\"color:red\">次のコードブロックでは、`ARMarker`クラスに以下の変更を加えてください。</span>**\n",
    "* はじめに**3.4**節の実装をコピーしてください。\n",
    "* `__init__`メソッドに、`__orientation`フィールドの定義を新たに追加し、画像内のマーカーの向きを格納します。このフィールドには`Orientation`列挙型の値を格納します。\n",
    "* 新しい`get_orientation`メソッドを実装して、マーカーの向きを返すようにします。\n",
    "* マーカーの向きも表示されるように`__str__`メソッドを修正してください。"
   ]
  },
  {
   "cell_type": "code",
   "execution_count": null,
   "metadata": {
    "scrolled": false
   },
   "outputs": [],
   "source": [
    "class ARMarker:\n",
    "    \n",
    "    def __init__(self, marker_id, marker_corners):\n",
    "        # TODO: 以前のARMarkerクラスから__idと__cornersの実装をコピーする\n",
    "\n",
    "              \n",
    "        # TODO: ARマーカの方向の情報を示す__orientationフィールドを設定する\n",
    "        # marker_cornersで渡された座標情報からARMarkerの向きを検出します\n",
    "        \n",
    "    \n",
    " \n",
    "            \n",
    "    def get_id(self):\n",
    "        # TODO: 以前のARMarkerクラスから実装をコピーする\n",
    "\n",
    "    \n",
    "    def get_corners(self):\n",
    "        # TODO: 以前のARMarkerクラスから実装をコピーする。\n",
    "\n",
    "    \n",
    "    def get_orientation(self):\n",
    "        # TODO: ARマーカーの方向を返す\n",
    "\n",
    "    \n",
    "    def __str__(self):\n",
    "        # TODO: __str__を修正し、ID、コーナー、方向を返すようにする\n"
   ]
  },
  {
   "cell_type": "markdown",
   "metadata": {},
   "source": [
    "ARマーカーの方向検出アルゴリズムは`ARMarker`コンストラクタにあるので、ARMarkerを作成するたびに自動的に実行されます。したがって、`get_ar_markers`関数を修正する必要はありません。クラスを使用するすべてのコードを変更することなく、クラスを変更する事ができます。このように、変更しなくてはいけないコードの範囲を狭くできるのは、クラスを使用する大きなメリットです。\n",
    "\n",
    "次のコードブロックを実行すると、すべてのARマーカーの向きもIDや角の座標と合わせて表示されるはずです。"
   ]
  },
  {
   "cell_type": "code",
   "execution_count": null,
   "metadata": {},
   "outputs": [],
   "source": [
    "image = rc.camera.get_color_image_async()\n",
    "markers = get_ar_markers(image)\n",
    "\n",
    "for marker in markers:\n",
    "    print(marker)\n",
    "    print(\"\\n----\\n\")"
   ]
  },
  {
   "cell_type": "markdown",
   "metadata": {},
   "source": [
    "<a id=\"DetectingColor\"></a>\n",
    "## 5. 色の検出\n",
    "ラインフォローでは、あらかじめわかっている色の優先順位に基づいて色のついた線をたどりました。より難しいタスクとしては、環境にある指標に基づいて色の優先順位を決定することが考えられます。\n",
    "\n",
    "色の情報を伝える一つの方法は、色のついた背景にARマーカーを表示する事です。例えば、赤色の背景にARマーカーを表示すれば、赤い線に沿って進めば良いことを示す事ができます。また、複数のマーカーを使って、色の優先順位を伝えることもできます。マーカーのID 0の色が最も優先順位の高い色、マーカーID 1の色がその次の色、という具合です。\n",
    "\n",
    "この情報を利用するには、ARマーカーを囲む背景色を検出するアルゴリズムを実装する必要があります。ラインフォローで学んだ事を応用すれば、以下のステップでこの機能を実現することができます：\n",
    "1. 画像をARマーカーの周囲で切り抜く\n",
    "2. 切り取られた領域内で、色の輪郭を検出する\n",
    "3. 最も大きな輪郭が得られた色は、マーカーを囲む背景色である可能性が高い"
   ]
  },
  {
   "cell_type": "markdown",
   "metadata": {},
   "source": [
    "### 5.1 マーカーのトリミング\n",
    "\n",
    "マーカーの角の座標と向きから、画像に対する左上と右下の角の座標を見つけることができます。しｓかし、この領域でトリミングすると、マーカーそのものが見えるだけで、マーカーを囲む背景色は見えません。なので、マーカーの左上と右下の角の座標情報からマーカーの幅と高さを取得して、それを使ってARマーカーの2倍の大きさの四角形を考えます。この四角形の左上の角の座標(top_left)と右下の角の座標(bottom_right)を計算します。そして、`rc_utils.crop`を使うことで、この四角形に囲まれた画像を切り抜くことができます。\n",
    "\n",
    "**<span style=\"color:red\">以下のコードブロックを、`image`からARマーカーを中心とした、ARマーカーの高さと幅が2倍の領域を切り抜けるように追記・修正しましょう。</span>**\n",
    "\n",
    "**注 1**: マーカーの高さを計算するよりも、半分の高さを計算するほうが処理を簡単に記述できます。なぜなら、求める2倍の大きさの四角形は、ARマーカーの左上の座標を高さの半分の値だけ上に、左下の角を高さの半分の値だけ下にずらす事で求める事ができるためです。幅についても同じように考える事ができます。（実装する前に図を描いて考えてみましょう）\n",
    "\n",
    "**注 2**: マーカーの角の座標として返ってくる値は*パターン*の左上の角の座標であり、 _image_ に表示されている左上の角の座標とは限らないことに注意してください。幸運なことに、4節ですでにマーカーの向きを計算する機能を実装しています。それぞれの`Orientation`の値には(`UP`には0が、`LEFT`には1のように)整数の値が関連づけられていることを思い出してください。この整数の値は、マーカーの角の座標のリストにおける、画像に対する左上のコーナーのインデックスも表す値です。つまり、マーカーが左を向いている場合、`markers.get_orientation()[1]`の値は左上の角の座標を示します。"
   ]
  },
  {
   "cell_type": "code",
   "execution_count": null,
   "metadata": {},
   "outputs": [],
   "source": [
    "# 画像内の最初のマーカーを検出\n",
    "image = rc.camera.get_color_image_async()\n",
    "markers = get_ar_markers(image)\n",
    "marker = markers[0]\n",
    "\n",
    "# 画像内のマーカーの位置と寸法を計算する(注2を参照)\n",
    "marker_top, marker_left = marker.get_corners()[marker.get_orientation().value]\n",
    "marker_bottom, marker_right = marker.get_corners()[(marker.get_orientation().value + 2) % 4]\n",
    "\n",
    "# TODO: ARマーカーの高さの半分の値と幅の半分の値を計算する(注1を参照)\n",
    "half_marker_height = ?\n",
    "half_marker_width = ?\n",
    "\n",
    "# TODO: ARマーカーを中心に、ARマーカーの2倍の大きさの四角形を切り抜く\n",
    "\n",
    "\n",
    "# 切り抜いた画像を表示する\n",
    "show_image(cropped_image, 4)"
   ]
  },
  {
   "cell_type": "markdown",
   "metadata": {},
   "source": [
    "### 5.2 輪郭を見つける\n",
    "次に、切り取った画像から色の輪郭を探します（ラインフォローの時の手順を参考にしてください）。まず、赤の輪郭を探します。**<span style=\"color:red\">必要であれば、切り取られた赤い背景を識別できるまで、以下のHSV範囲を変更してください。</span>**"
   ]
  },
  {
   "cell_type": "code",
   "execution_count": null,
   "metadata": {},
   "outputs": [],
   "source": [
    "# TODO: 必要に応じて、マーカーの輪郭を検出するHSV範囲を調整する\n",
    "hsv_lower = (170, 50, 50)\n",
    "hsv_upper = (10, 255, 255)\n",
    "\n",
    "# 最も大きな輪郭を検出する\n",
    "contours = rc_utils.find_contours(cropped_image, hsv_lower, hsv_upper)\n",
    "largest_contour = rc_utils.get_largest_contour(contours)\n",
    "\n",
    "# 切り取った画像のコピーに輪郭を描き、それを表示する\n",
    "marked_image = copy.deepcopy(cropped_image)\n",
    "rc_utils.draw_contour(marked_image, largest_contour)\n",
    "show_image(marked_image, 4)"
   ]
  },
  {
   "cell_type": "markdown",
   "metadata": {},
   "source": [
    "しかし、検出したいのは赤い輪郭だけではありません。ARマーカーが青、緑、赤のいずれかであることがわかっているとします。それぞれを検出できるようにしましょう。各色のHSV範囲に対して、これまでの戦略を適用することで、最も大きな輪郭を持つ色を選択することができます。輪郭が見つからなければ、ARマーカーは青、緑、赤のいずれの色でもないと結論付けます。\n",
    "\n",
    "**<span style=\"color:red\">`detected_color`に、輪郭の面積が最も大きい色の名前が格納されるように、以下のコードブロックを追記・修正してください。</span>**"
   ]
  },
  {
   "cell_type": "code",
   "execution_count": null,
   "metadata": {},
   "outputs": [],
   "source": [
    "# TODO: 必要に応じて色やhsv_rangesを調整する\n",
    "potential_colors = [\n",
    "    ((90, 50, 50), (120, 255, 255), \"blue\"),\n",
    "    ((40, 50, 50), (80, 255, 255), \"green\"),\n",
    "    ((170, 50, 50), (10, 255, 255), \"red\")\n",
    "]\n",
    "\n",
    "greatest_area = 0\n",
    "detected_color = \"none\"\n",
    "\n",
    "for (hsv_lower, hsv_upper, color_name) in potential_colors:\n",
    "    # 現在の色の最大の輪郭を見つける\n",
    "    contours = rc_utils.find_contours(cropped_image, hsv_lower, hsv_upper)\n",
    "    largest_contour = rc_utils.get_largest_contour(contours)\n",
    "    \n",
    "    if largest_contour is not None:\n",
    "        # 輪郭が存在する場合は輪郭の面積を求める\n",
    "        contour_area = rc_utils.get_contour_area(largest_contour)\n",
    "        \n",
    "        if contour_area > greatest_area:\n",
    "            # TODO: このような条件の場合どのような処理をすべきでしょうか？\n",
    "\n",
    "            \n",
    "print(\"greatest_area: \", greatest_area)\n",
    "print(\"detected_color: \", detected_color)"
   ]
  },
  {
   "cell_type": "markdown",
   "metadata": {},
   "source": [
    "### 5.3 ARMarkerクラスに色を追加する\n",
    "\n",
    "最後に、この新しい機能を`ARMarker`クラスに追加して、色がマーカーの他の情報と一緒に保存されるようにします。\n",
    "\n",
    "**<span style=\"color:red\">次のコードブロックでは、`ARMarker`クラスに以下の変更を加えてください。</span>**\n",
    "* **4**節から以前の実装をコピーしてください。\n",
    "* `__init__`メソッドに、次の2つを追加してください。`__color`は現在検出されている色の名前を格納する文字列です。このフィールドは「未検出」として初期化する必要があります。`__color_area`は現在検出されている色の輪郭領域を格納する数値です。（初期化方法は各自で決定してください）\n",
    "* 新しい`detec_colors`メソッドはマーカーを囲む潜在的な色のリストの検出を試み、その結果に応じて`__color`と`__color_area`フィールドを更新します。このメソッドはセクション**5.1**と**5.2**で説明したものを使用して実装してください。\n",
    "* 新しい`get_color`メソッドを実装し、現在検出しているマーカーの色を返す。\n",
    "* マーカーの色も表示するように`__str__`を更新してください。"
   ]
  },
  {
   "cell_type": "code",
   "execution_count": null,
   "metadata": {},
   "outputs": [],
   "source": [
    "class ARMarker:\n",
    "    \n",
    "    def __init__(self, marker_id, marker_corners):\n",
    "        # TODO: これまでに実装したARMarkerクラスの内容をコピーする\n",
    "\n",
    "                \n",
    "        # 検出された色と、その色の輪郭の領域を格納するフィールドを定義する\n",
    "\n",
    "        \n",
    "    def detect_colors(self, image, potential_colors):\n",
    "        # TODO: これまでに書いたコードをコピーして、ARマーカーと周辺の画像をトリミングする\n",
    "        \n",
    "        \n",
    "        # TODO: potential_colorsで色を検索するために、以前に書いたコードをコピーする\n",
    "\n",
    "            \n",
    "    def get_id(self):\n",
    "        # TODO: これまでに実装したARMarkerクラスの内容をコピーする\n",
    "\n",
    "    \n",
    "    def get_corners(self):\n",
    "        # TODO: これまでに実装したARMarkerクラスの内容をコピーする\n",
    "\n",
    "    \n",
    "    def get_orientation(self):\n",
    "        # TODO: これまでに実装したARMarkerクラスの内容をコピーする\n",
    "\n",
    "    \n",
    "    def get_color(self):\n",
    "        # TODO: 検出した色を返す\n",
    "\n",
    "    \n",
    "    def __str__(self):\n",
    "        # TODO: __str__を修正して、ID、角の座標、向き、色を返すようにする\n"
   ]
  },
  {
   "cell_type": "markdown",
   "metadata": {},
   "source": [
    "これで、新しい`detect_colors`メソッドを使って、カラー画像の各ARマーカーの背景色を検出できるようになった。"
   ]
  },
  {
   "cell_type": "code",
   "execution_count": null,
   "metadata": {
    "scrolled": true
   },
   "outputs": [],
   "source": [
    "image = rc.camera.get_color_image_async()\n",
    "markers = get_ar_markers(image)\n",
    "\n",
    "for marker in markers:\n",
    "    marker.detect_colors(image, potential_colors)\n",
    "\n",
    "for marker in markers:\n",
    "    print(marker)\n",
    "    print(\"\\n----\\n\")"
   ]
  },
  {
   "cell_type": "markdown",
   "metadata": {},
   "source": [
    "`lab_h.py`ではこれらのスキルを使って、ARマーカーによる指示に基づいて、コースをナビゲートします。幸運を祈ります！もし、何か質問があれば遠慮なく声をかけてください！"
   ]
  }
 ],
 "metadata": {
  "kernelspec": {
   "display_name": "racecar-venv",
   "language": "python",
   "name": "python3"
  },
  "language_info": {
   "codemirror_mode": {
    "name": "ipython",
    "version": 3
   },
   "file_extension": ".py",
   "mimetype": "text/x-python",
   "name": "python",
   "nbconvert_exporter": "python",
   "pygments_lexer": "ipython3",
   "version": "3.9.21"
  }
 },
 "nbformat": 4,
 "nbformat_minor": 4
}
