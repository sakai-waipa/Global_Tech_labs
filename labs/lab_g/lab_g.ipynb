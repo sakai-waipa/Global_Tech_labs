{
 "cells": [
  {
   "cell_type": "markdown",
   "metadata": {},
   "source": [
    "# Lab G: Exploration: LIDAR\n",
    "\n",
    "このノートでは、RaceacrのLiDARを使って距離を測定し、最も近い物体をを見つける方法を学びます。\n",
    "\n",
    "このノートブック全体を通して **<font style=\"color:red\">太い赤字で書かれた文章</font>** は、実行する前にその下のコードブロックを編集して正しいコードを書く必要があります。\n",
    "\n",
    "\n",
    "## 目次\n",
    "1. [はじめに](#GettingStarted)\n",
    "1. [LiDARデータの収集](#GatheringLidarData)\n",
    "1. [LiDARデータの可視化](#VisualizingLidarData)\n",
    "1. [ノイズの扱い方](#HandlingNoise)\n",
    "1. [最も近い点](#ClosestPoint)"
   ]
  },
  {
   "cell_type": "markdown",
   "metadata": {},
   "source": [
    "<a id=\"GettingStarted\"></a>\n",
    "## 1. はじめに\n",
    "\n",
    "**<font style=\"color:red\">もしシミュレータを利用して開発を進める場合は、 `isSimulation` を `True` に設定します </font>**。 実際のマシンを利用する場合は、 `isSimulation` を `False` のままにしてください。"
   ]
  },
  {
   "cell_type": "code",
   "execution_count": null,
   "metadata": {},
   "outputs": [],
   "source": [
    "# TODO: 必要に応じてisSimulationを更新する\n",
    "isSimulation = True"
   ]
  },
  {
   "cell_type": "markdown",
   "metadata": {},
   "source": [
    "次に、Pythonライブラリ(`cv`, `numpy`, など)や、Racecarライブラリ(`racecar_core`)など、このノートブックの実行に必要なライブラリをインポートします。"
   ]
  },
  {
   "cell_type": "code",
   "execution_count": null,
   "metadata": {},
   "outputs": [],
   "source": [
    "# Pythonライブラリのインポート\n",
    "import math\n",
    "import cv2 as cv\n",
    "import numpy as np\n",
    "import matplotlib.pyplot as plt\n",
    "import ipywidgets as widgets\n",
    "import statistics\n",
    "from nptyping import NDArray\n",
    "from typing import Any, Tuple, List, Optional\n",
    "\n",
    "# Racecarライブラリのインポート\n",
    "import sys\n",
    "sys.path.append(\"../../library\")\n",
    "import racecar_core\n",
    "import racecar_utils as rc_utils"
   ]
  },
  {
   "cell_type": "markdown",
   "metadata": {},
   "source": [
    "最後に、Racecarオブジェクトを作成します。このステップで失敗した場合は`isSimulation` が正しい値であることを確認してください。"
   ]
  },
  {
   "cell_type": "code",
   "execution_count": null,
   "metadata": {},
   "outputs": [],
   "source": [
    "# Racecar オブジェクトの作成\n",
    "rc = racecar_core.create_racecar(isSimulation)"
   ]
  },
  {
   "cell_type": "markdown",
   "metadata": {},
   "source": [
    "<a id=\"GatheringLidarData\"></a>\n",
    "## 2. LiDARデータの収集\n",
    "RacecarのLiDARデータは、720個の距離測定値を1次元numpy配列として格納しています。 各測定値は1/2度（＝0.5°）間隔で、時計回りに並んでおり、0番目のデータは車の真正面にあります。\n",
    "\n",
    "Jupyter Notebookでは、`rc.lidar.get_samples_async()`を使って車のLiDARデータにアクセスすることができます。 Jupyter Notebookの外では、代わりに`rc.lidar.get_samples()`を使用する必要があります。"
   ]
  },
  {
   "cell_type": "code",
   "execution_count": null,
   "metadata": {
    "scrolled": false
   },
   "outputs": [],
   "source": [
    "# 現在のLiDARのデータを取得する\n",
    "scan = rc.lidar.get_samples_async()"
   ]
  },
  {
   "cell_type": "markdown",
   "metadata": {},
   "source": [
    "早速、Racecarの真正面と真後ろの距離を測定してみましょう！"
   ]
  },
  {
   "cell_type": "code",
   "execution_count": null,
   "metadata": {},
   "outputs": [],
   "source": [
    "# 前方と後方の距離を表示する\n",
    "forward_distance = scan[0]\n",
    "print(f\"Forward distance: {forward_distance:.2f} cm\")\n",
    "\n",
    "rear_distance = scan[360]\n",
    "print(f\"Rear distance: {rear_distance:.2f} cm\")"
   ]
  },
  {
   "cell_type": "markdown",
   "metadata": {},
   "source": [
    "**<span style=\"color:red\">以下のコードブロックの`left_distance`と`right_distance`に、Racecarの左側と右側のLiDAR測定値に設定してみましょう。</span>**"
   ]
  },
  {
   "cell_type": "code",
   "execution_count": null,
   "metadata": {},
   "outputs": [],
   "source": [
    "# TODO: 左側と右側の距離を表示する\n",
    "left_distance = scan[0]\n",
    "print(f\"Left distance: {left_distance:.2f} cm\")\n",
    "\n",
    "right_distance = scan[0]\n",
    "print(f\"Right distance: {right_distance:.2f} cm\")"
   ]
  },
  {
   "cell_type": "markdown",
   "metadata": {},
   "source": [
    "<a id=\"VisualizingLidarData\"></a>\n",
    "## 3. LiDARデータの可視化\n",
    "\n",
    "このセクションでは、LiDARデータをカラー画像に変換する関数を作成します。  \n",
    "以下のアプローチを使用します：\n",
    "\n",
    "1. 指定した半径の真っ黒な正方形のBGR画像（行、列、色チャンネルを並べた3D numpy配列）を作成する。\n",
    "1. [`rc_utils.draw_circle`](https://mitll-racecar.readthedocs.io/en/latest/racecar_utils.html#racecar_utils.draw_circle)を使って、画像の中心に緑色の点を描く。これはRacecarの位置を示します。\n",
    "1. 各LiDARデータについて、対応するピクセルを赤に設定します。取得したデータのインデックスから各サンプルの角度を計算します。 また、`max_range`が画像の端になるように距離をスケーリング（変換）することで、この角度と距離を画像の行と列に変換することができます。\n",
    "1. `highlighted_samples` には、水色の点で強調したい `(角度, 距離)` 測定値のリストが格納されます。これらは前のステップのサンプルと同様にプロットし、`rc_utils.draw_circle`で描画することができます。\n",
    "1. Matplotlib を使ってJupyter Notebookにカラー画像を表示します。\n",
    "\n",
    "結果は、RacecarSimの画面左側にに表示されているLiDARを可視化した画像と同じように見えるはずです。\n",
    "\n",
    "**<span style=\"color:red\">以下の `show_lidar` 関数を上記のアプローチで実装してみましょう。</span>**"
   ]
  },
  {
   "cell_type": "code",
   "execution_count": null,
   "metadata": {},
   "outputs": [],
   "source": [
    "def show_lidar(\n",
    "    scan: NDArray[Any, np.float32],\n",
    "    radius: int = 128,\n",
    "    max_range: int = 400,\n",
    "    highlighted_samples: List[Tuple[int, int]] = []\n",
    ") -> None:\n",
    "    \"\"\"\n",
    "    Jupyter NotebookでLiDARデータを視覚的に表示します\n",
    "    \n",
    "    Args:\n",
    "        scan: 表示するLiDARデータ\n",
    "        radius: 生成された画像の幅と高さの半分の値（ピクセル単位）\n",
    "        max_range: 画像に表示する最も遠い距離（cm）。この範囲を超えたサンプルは表示されない。\n",
    "        highlighted_samples: (角度、距離) フォーマットの強調表示するデータのリスト\n",
    "    \"\"\"    \n",
    "    # 要求された半径で正方形の黒い画像を作成する\n",
    "    image = np.zeros((2 * radius, 2 * radius, 3), np.uint8, \"C\")\n",
    "    num_samples: int = len(scan)\n",
    "\n",
    "    # TODO: 画像の中心にRacecarを示す緑色の点を表示する\n",
    "    # ヒント: rc_utils.draw_circle を使いましょう\n",
    "    CAR_DOT_RADIUS = 2\n",
    "\n",
    "        \n",
    "    # TODO: max_rangeより小さいゼロではないデータごとに赤いピクセルを描画する\n",
    "\n",
    "    \n",
    "    # TODO: highlighted_samplesで指定された位置にそれぞれ水色の点を描画する\n",
    "    # ヒント: rc_utils.draw_circle を使いましょう\n",
    "    HIGHLIGHT_DOT_RADIUS = 2\n",
    "\n",
    "\n",
    "    # Matplotlibで画像を表示する\n",
    "    plt.imshow(cv.cvtColor(image, cv.COLOR_BGR2RGB))\n",
    "    plt.show()"
   ]
  },
  {
   "cell_type": "markdown",
   "metadata": {},
   "source": [
    "それでは、この関数を使ってLiDARデータを視覚化してみよう。"
   ]
  },
  {
   "cell_type": "code",
   "execution_count": null,
   "metadata": {
    "scrolled": true
   },
   "outputs": [],
   "source": [
    "show_lidar(scan)"
   ]
  },
  {
   "cell_type": "markdown",
   "metadata": {},
   "source": [
    "とりあえず、各方向に100cmの点を強調表示して、`highlighted_samples`機能を試してみましょう。"
   ]
  },
  {
   "cell_type": "code",
   "execution_count": null,
   "metadata": {},
   "outputs": [],
   "source": [
    "show_lidar(scan, highlighted_samples=[(0, 100), (90, 100), (180, 100), (270, 100)])"
   ]
  },
  {
   "cell_type": "markdown",
   "metadata": {},
   "source": [
    "<a id=\"HandlingNoise\"></a>\n",
    "## 4. ノイズの扱い方\n",
    "\n",
    "LiDARデータはノイズやNULL値（無効な値）の影響を受けます。これに対処するために、1つの測定値に頼るのではなく、*角度ウィンドウ*をまたいで隣接する複数のサンプルを平均化する。ここで*角度ウィンドウ*とは、ある特定の角度周りにある一定範囲の角度データをまとめることを意味します。例えば、Racecarから見て、60度の方向の距離データを測定したいとき、角度ウィンドウの幅を4度に設定すると、60度の前後2度、つまり58度から62度までのデータを集めて、その平均値を取ることになります。  \n",
    "また、測定値の中に無効な値（ここでは「0.0」となっているもの）が含まれていると平均値に悪影響を与えてしまうため、これらの0.0の値は平均の計算空除外します。\n",
    "\n",
    "**<span style=\"color:red\">それでは、このアプローチを`get_lidar_average_distance`で実装してみましょう。</span>** Pythonの [内包表記](https://docs.python.org/ja/3.13/tutorial/datastructures.html#list-comprehensions)を利用すると良いでしょう。"
   ]
  },
  {
   "cell_type": "code",
   "execution_count": null,
   "metadata": {
    "scrolled": false
   },
   "outputs": [],
   "source": [
    "def get_lidar_average_distance(\n",
    "    scan: NDArray[Any, np.float32], angle: float, window_angle: float = 4\n",
    ") -> float:\n",
    "    \"\"\"\n",
    "    Racecarに対して特定の角度にある物体の平均距離を求める\n",
    "\n",
    "    Args:\n",
    "        scan: LiDARのデータ\n",
    "        angle: 距離を測定する角度(degree)。\n",
    "            Racecarの前方を0度として、時計周りに増加することに注意。\n",
    "        window_angle: 角度の周辺を考慮する度数\n",
    "\n",
    "    Returns:\n",
    "        指定した角度の点の平均距離 (cm)\n",
    "\n",
    "    Note:\n",
    "        値が0.0 (データなし)のサンプルは無視する\n",
    "        window_angleを大きくすると、精度が落ちる代わりにノイズの影響を受けにくくなります\n",
    "    \"\"\"\n",
    "    # TODO: 指定した角度ウィンドウ内のサンプルを平均化する\n"
   ]
  },
  {
   "cell_type": "markdown",
   "metadata": {},
   "source": [
    "それでは試してみましょう！  \n",
    "角度ウィンドウの角度を大きくすると、より多くのサンプルが含まれるためノイズに強くなりますが、関連性の低いサンプルを含むようになるため精度が低下してしまいます。"
   ]
  },
  {
   "cell_type": "code",
   "execution_count": null,
   "metadata": {
    "scrolled": false
   },
   "outputs": [],
   "source": [
    "WINDOW_ANGLE = 6\n",
    "rear_distance = get_lidar_average_distance(scan, 180, WINDOW_ANGLE)\n",
    "print(f\"Rear distance ({WINDOW_ANGLE} degree window): {rear_distance:.2f} cm\")"
   ]
  },
  {
   "cell_type": "markdown",
   "metadata": {},
   "source": [
    "`get_lidar_average_distance` は角度ウィンドウが配列の端をまたぐ場合を考慮する必要があります。例えば、指定した角度が0度で角度ウィンドウの値が6の場合、0から前後に3度の値つまり357度から3度の範囲のデータで平均を計算する必要があります。\n",
    "\n",
    "**<span style=\"color:red\">もし、上記のような処理を`get_lidar_average_distance`に実装していなければ、配列の端をまたぐ角度ウィンドウでも問題なく動くように追記修正しましょう。</span>**"
   ]
  },
  {
   "cell_type": "code",
   "execution_count": null,
   "metadata": {},
   "outputs": [],
   "source": [
    "forward_distance = get_lidar_average_distance(scan, 0, WINDOW_ANGLE)\n",
    "print(f\"Forward distance ({WINDOW_ANGLE} degree window): {forward_distance:.2f} cm\")"
   ]
  },
  {
   "cell_type": "markdown",
   "metadata": {},
   "source": [
    "最後に、指定した角度ウィンドウにデータがない場合の処理を追加する必要があります。この場合は`0.0`を返すようにしましょう。\n",
    "\n",
    "**<span style=\"color:red\">もし、上記のような処理を`get_lidar_average_distance`に実装していなければ、指定した範囲にデータがない場合は`0.0`を返すように追記修正してください。</span>**"
   ]
  },
  {
   "cell_type": "code",
   "execution_count": null,
   "metadata": {},
   "outputs": [],
   "source": [
    "null_scan = np.zeros(rc.lidar.get_num_samples(), np.float32)\n",
    "forward_distance = get_lidar_average_distance(null_scan, 0, WINDOW_ANGLE)\n",
    "print(f\"Forward distance ({WINDOW_ANGLE} degree window) in null scan: {forward_distance:.2f} cm\")"
   ]
  },
  {
   "cell_type": "markdown",
   "metadata": {},
   "source": [
    "<a id=\"ClosestPoint\"></a>\n",
    "## 5. 最も近い点\n",
    "\n",
    "LiDARを使って、Raceacrの周り360度にある物体のうち、一番近くにあるものの角度を見つけることができます。\n",
    "もし測定できなかった（無効な）値があった場合、その値を極端に大きな値に変換して、最小値の計算に入らないようにします。\n",
    "そのための効率的な方法の一つが、各値を少しだけ減らして（たとえば0.01 cmだけ）、その後に大きな数（たとえば10,000 cm）で割った余り（mod）を求める方法です。\n",
    "この操作を行うと、例えば0.0はまず-0.01になりますが、その後にmodを計算すると9,999.99 cmとなります。\n",
    "このようにして、無効な値は実際の距離計測値とは大きく異なる値になり、一番近い物体の距離を正しく求めることができるのです。\n",
    "\n",
    "```\n",
    "scan = (scan - 0.01) % 10000\n",
    "```\n",
    "\n",
    "例えば、Numpyの[argmin](https://numpy.org/doc/1.19/reference/generated/numpy.argmin.html)関数を利用して、最も近い点が度の角度にあるかを求める事ができます。\n",
    "\n",
    "```\n",
    "scan = (scan - 0.01) % 10000\n",
    "angle = np.argmin(scan) * 360 / rc.lidar.get_num_samples()\n",
    "```\n",
    "\n",
    "しかし、場合によっては、30度から150度までのように、特定の範囲内のサンプルだけを対象にしたいこともあります。\n",
    "**<span style=\"color:red\">`get_closest_pixel`を実装して、LiDARデータからして下ウィンドウ内の最も近い点の角度を距離を求めてみましょう。</span>**."
   ]
  },
  {
   "cell_type": "code",
   "execution_count": null,
   "metadata": {},
   "outputs": [],
   "source": [
    "def get_lidar_closest_point(\n",
    "    scan: NDArray[Any, np.float32], window: Tuple[float, float] = (0, 360)\n",
    ") -> Tuple[float, float]:\n",
    "    \"\"\"\n",
    "    LiDARのデータから最も近い点を見つける\n",
    "    Args:\n",
    "        scan: LiDARのデータ\n",
    "        window: (min_degree, max_degree)で表される考慮する角度の範囲。\n",
    "\n",
    "    Returns:\n",
    "        指定された角度ウィンドウ内で、最もRaceacarに近い点 (角度、距離)を返す\n",
    "        角度の単位は度(degree)で、Raceacarの真正面が0度で、時計回りに増加する\n",
    "    Note:\n",
    "        値が0.0(データなし)のデータは無視される\n",
    "\n",
    "        360度～0度の教会を通過する角度ウィンドウを利用する場合には、以下のようにする。\n",
    "        window min_degreeはwindow max_degreeよりも大きくてもよい。\n",
    "        例えば、(350, 10)はRaceacarの前方20度の角度ウィンドウを指定したことになる。\n",
    "    \"\"\"\n",
    "    # TODO: 指定したウィンドウ内で最も近い点の(角度、距離）を戻す\n",
    "    "
   ]
  },
  {
   "cell_type": "markdown",
   "metadata": {},
   "source": [
    "それでは、`get_lidar_closest_point`を使って、Racecarの右側でもっとも近い点を探してみましょう。"
   ]
  },
  {
   "cell_type": "code",
   "execution_count": null,
   "metadata": {},
   "outputs": [],
   "source": [
    "angle, distance = get_lidar_closest_point(scan, (30, 150))\n",
    "print(f\"Angle: {angle:.1f} degrees\")\n",
    "print(f\"Distance: {distance:.1f} cm\")\n",
    "\n",
    "show_lidar(scan, highlighted_samples=[(angle, distance)])"
   ]
  },
  {
   "cell_type": "markdown",
   "metadata": {},
   "source": [
    "繰り返しになりますが、指定された角度ウィンドウが配列の端をまたぐ場合にも対処する必要があります。  **<span style=\"color:red\">まだ`get_lidar_closest_point`に機能を実装していない場合には、負の角度と配列の端をまたぐ角度ウィンドウをサポートするように追記修正しましょう。</span>**"
   ]
  },
  {
   "cell_type": "code",
   "execution_count": null,
   "metadata": {},
   "outputs": [],
   "source": [
    "angle, distance = get_lidar_closest_point(scan, (-30, 30))\n",
    "print(f\"Angle: {angle:.1f} degrees\")\n",
    "print(f\"Distance: {distance:.1f} cm\")\n",
    "\n",
    "show_lidar(scan, highlighted_samples=[(angle, distance)])"
   ]
  },
  {
   "cell_type": "markdown",
   "metadata": {},
   "source": [
    "これで、LiDARのデータを扱う`lab_g1.py`と`lab_g2.py`に取り組む準備ができました。 幸運を祈ります！ 何か質問があれば、遠慮なく声をかけてください！"
   ]
  }
 ],
 "metadata": {
  "kernelspec": {
   "display_name": "Python 3",
   "language": "python",
   "name": "python3"
  },
  "language_info": {
   "codemirror_mode": {
    "name": "ipython",
    "version": 3
   },
   "file_extension": ".py",
   "mimetype": "text/x-python",
   "name": "python",
   "nbconvert_exporter": "python",
   "pygments_lexer": "ipython3",
   "version": "3.6.9"
  }
 },
 "nbformat": 4,
 "nbformat_minor": 4
}
